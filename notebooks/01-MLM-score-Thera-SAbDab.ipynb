{
 "cells": [
  {
   "cell_type": "code",
   "execution_count": null,
   "metadata": {},
   "outputs": [],
   "source": [
    "from transformers import (\n",
    "    BertForMaskedLM,\n",
    "    T5EncoderModel,\n",
    "    AutoTokenizer,\n",
    "    T5Tokenizer,\n",
    ")\n",
    "\n",
    "from antibody_commonness.pseudo_likelihood import calculate_pll\n",
    "from antibody_commonness.data import AntibodyPLLDataset"
   ]
  },
  {
   "cell_type": "code",
   "execution_count": null,
   "metadata": {},
   "outputs": [],
   "source": [
    "import ipywidgets as widgets\n",
    "\n",
    "# Create a dropdown widget\n",
    "dropdown = widgets.Dropdown(\n",
    "    options=['IgBert', 'IgT5'],\n",
    "    value='IgBert',\n",
    "    description='Select an antibody MLM:'\n",
    ")\n",
    "# Display the dropdown widget\n",
    "display(dropdown)\n",
    "\n",
    "# Create a text input widget for batch size\n",
    "batch_size_input = widgets.IntText(\n",
    "    value=128,\n",
    "    description='Batch Size:'\n",
    ")\n",
    "\n",
    "# Display the batch size input widget\n",
    "display(batch_size_input)"
   ]
  },
  {
   "cell_type": "code",
   "execution_count": null,
   "metadata": {},
   "outputs": [],
   "source": [
    "import torch\n",
    "\n",
    "model_str = dropdown.value\n",
    "\n",
    "if model_str == \"IgBert\":\n",
    "    model = BertForMaskedLM.from_pretrained(\"Exscientia/IgBert_unpaired\")\n",
    "    tokenizer = AutoTokenizer.from_pretrained(\"Exscientia/IgBert_unpaired\")\n",
    "if model_str == \"IgT5\":\n",
    "    model = T5EncoderModel.from_pretrained(\"Exscientia/IgT5_unpaired\")\n",
    "    tokenizer = T5Tokenizer.from_pretrained(\"Exscientia/IgT5_unpaired\")\n",
    "\n",
    "device = torch.device(\"cuda\" if torch.cuda.is_available() else \"mps\" if torch.backends.mps.is_available() else \"cpu\")\n",
    "batch_size = batch_size_input.value\n",
    "\n",
    "print(f\"Will run model [{model_str}] on device [{device}] with batch size [{batch_size}]\")"
   ]
  },
  {
   "cell_type": "code",
   "execution_count": null,
   "metadata": {},
   "outputs": [],
   "source": [
    "import pandas as pd\n",
    "\n",
    "sab_dab_link = \"https://opig.stats.ox.ac.uk/webapps/sabdab-sabpred/static/downloads/TheraSAbDab_SeqStruc_OnlineDownload.csv\"\n",
    "Thera_SAbDab = pd.read_csv(sab_dab_link)\n",
    "\n",
    "sequences = Thera_SAbDab[\"HeavySequence\"].to_list()\n",
    "\n",
    "dataset = AntibodyPLLDataset(sequences)"
   ]
  },
  {
   "cell_type": "code",
   "execution_count": null,
   "metadata": {},
   "outputs": [],
   "source": [
    "score_storage = calculate_pll(model, tokenizer, dataset=dataset, batch_size=batch_size, device=device)"
   ]
  },
  {
   "cell_type": "code",
   "execution_count": null,
   "metadata": {},
   "outputs": [],
   "source": [
    "# Access scores\n",
    "score_storage.get_pll(), score_storage.get_length_normalised_pll()"
   ]
  }
 ],
 "metadata": {
  "kernelspec": {
   "display_name": "anti_comm",
   "language": "python",
   "name": "python3"
  },
  "language_info": {
   "codemirror_mode": {
    "name": "ipython",
    "version": 3
   },
   "file_extension": ".py",
   "mimetype": "text/x-python",
   "name": "python",
   "nbconvert_exporter": "python",
   "pygments_lexer": "ipython3",
   "version": "3.11.9"
  }
 },
 "nbformat": 4,
 "nbformat_minor": 2
}
